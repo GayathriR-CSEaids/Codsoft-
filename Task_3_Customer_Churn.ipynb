{
  "nbformat": 4,
  "nbformat_minor": 0,
  "metadata": {
    "colab": {
      "provenance": []
    },
    "kernelspec": {
      "name": "python3",
      "display_name": "Python 3"
    },
    "language_info": {
      "name": "python"
    }
  },
  "cells": [
    {
      "cell_type": "code",
      "execution_count": null,
      "metadata": {
        "colab": {
          "base_uri": "https://localhost:8080/"
        },
        "id": "CcfUE8vTGpiG",
        "outputId": "a2cf37d3-d7f6-49b3-8956-dfd0e3a9fdb7"
      },
      "outputs": [
        {
          "output_type": "stream",
          "name": "stdout",
          "text": [
            "   RowNumber  CustomerId   Surname  CreditScore Geography  Gender  Age  \\\n",
            "0          1    15634602  Hargrave          619    France  Female   42   \n",
            "1          2    15647311      Hill          608     Spain  Female   41   \n",
            "2          3    15619304      Onio          502    France  Female   42   \n",
            "3          4    15701354      Boni          699    France  Female   39   \n",
            "4          5    15737888  Mitchell          850     Spain  Female   43   \n",
            "\n",
            "   Tenure    Balance  NumOfProducts  HasCrCard  IsActiveMember  \\\n",
            "0       2       0.00              1          1               1   \n",
            "1       1   83807.86              1          0               1   \n",
            "2       8  159660.80              3          1               0   \n",
            "3       1       0.00              2          0               0   \n",
            "4       2  125510.82              1          1               1   \n",
            "\n",
            "   EstimatedSalary  Exited  \n",
            "0        101348.88       1  \n",
            "1        112542.58       0  \n",
            "2        113931.57       1  \n",
            "3         93826.63       0  \n",
            "4         79084.10       0  \n"
          ]
        }
      ],
      "source": [
        "import pandas as pd\n",
        "import numpy as np\n",
        "from sklearn.preprocessing import StandardScaler, OneHotEncoder\n",
        "from sklearn.compose import ColumnTransformer\n",
        "from sklearn.pipeline import Pipeline\n",
        "from sklearn.linear_model import LogisticRegression\n",
        "from sklearn.ensemble import RandomForestClassifier, GradientBoostingClassifier\n",
        "from sklearn.metrics import classification_report, roc_auc_score\n",
        "from sklearn.model_selection import train_test_split, GridSearchCV\n",
        "\n",
        "# Load data\n",
        "data = pd.read_csv(\"/content/Churn_Modelling.csv\")\n",
        "\n",
        "# Display the first few rows of the dataset\n",
        "print(data.head())\n"
      ]
    },
    {
      "cell_type": "code",
      "source": [
        "# Check for missing values\n",
        "print(data.isnull().sum())\n",
        "\n",
        "# Check data types\n",
        "print(data.dtypes)\n",
        "\n",
        "# Check for unique values in the target column 'churn'\n",
        "print(data['Exited'].value_counts())\n"
      ],
      "metadata": {
        "colab": {
          "base_uri": "https://localhost:8080/"
        },
        "id": "TPI_zFmlHKU3",
        "outputId": "df569f29-a89b-489a-dc4c-d57b394ebbe5"
      },
      "execution_count": null,
      "outputs": [
        {
          "output_type": "stream",
          "name": "stdout",
          "text": [
            "RowNumber          0\n",
            "CustomerId         0\n",
            "Surname            0\n",
            "CreditScore        0\n",
            "Geography          0\n",
            "Gender             0\n",
            "Age                0\n",
            "Tenure             0\n",
            "Balance            0\n",
            "NumOfProducts      0\n",
            "HasCrCard          0\n",
            "IsActiveMember     0\n",
            "EstimatedSalary    0\n",
            "Exited             0\n",
            "dtype: int64\n",
            "RowNumber            int64\n",
            "CustomerId           int64\n",
            "Surname             object\n",
            "CreditScore          int64\n",
            "Geography           object\n",
            "Gender              object\n",
            "Age                  int64\n",
            "Tenure               int64\n",
            "Balance            float64\n",
            "NumOfProducts        int64\n",
            "HasCrCard            int64\n",
            "IsActiveMember       int64\n",
            "EstimatedSalary    float64\n",
            "Exited               int64\n",
            "dtype: object\n",
            "Exited\n",
            "0    7963\n",
            "1    2037\n",
            "Name: count, dtype: int64\n"
          ]
        }
      ]
    },
    {
      "cell_type": "code",
      "source": [
        "# Fill missing values for numeric columns with their median\n",
        "numeric_columns = data.select_dtypes(include=['int64', 'float64']).columns\n",
        "data[numeric_columns] = data[numeric_columns].fillna(data[numeric_columns].median())\n",
        "\n",
        "# Fill missing values for categorical columns with their mode\n",
        "categorical_columns = data.select_dtypes(include=['object']).columns\n",
        "data[categorical_columns] = data[categorical_columns].fillna(data[categorical_columns].mode().iloc[0])\n",
        "\n",
        "# Verify there are no more missing values\n",
        "print(data.isnull().sum())\n"
      ],
      "metadata": {
        "colab": {
          "base_uri": "https://localhost:8080/"
        },
        "id": "EDPLzm2MJROo",
        "outputId": "ec46149e-8bf3-47a8-90cd-1368c34ea482"
      },
      "execution_count": null,
      "outputs": [
        {
          "output_type": "stream",
          "name": "stdout",
          "text": [
            "RowNumber          0\n",
            "CustomerId         0\n",
            "Surname            0\n",
            "CreditScore        0\n",
            "Geography          0\n",
            "Gender             0\n",
            "Age                0\n",
            "Tenure             0\n",
            "Balance            0\n",
            "NumOfProducts      0\n",
            "HasCrCard          0\n",
            "IsActiveMember     0\n",
            "EstimatedSalary    0\n",
            "Exited             0\n",
            "dtype: int64\n"
          ]
        }
      ]
    },
    {
      "cell_type": "code",
      "source": [
        "# Identify numeric and categorical features\n",
        "numeric_features = ['CreditScore', 'Age', 'Tenure', 'Balance', 'NumOfProducts', 'EstimatedSalary']\n",
        "categorical_features = ['Geography', 'Gender']\n",
        "\n",
        "# Define column transformer\n",
        "preprocessor = ColumnTransformer(\n",
        "    transformers=[\n",
        "        ('num', StandardScaler(), numeric_features),\n",
        "        ('cat', OneHotEncoder(handle_unknown='ignore'), categorical_features)\n",
        "    ])\n"
      ],
      "metadata": {
        "id": "o9xSFbE4JV2G"
      },
      "execution_count": null,
      "outputs": []
    },
    {
      "cell_type": "code",
      "source": [
        "# Separate features and target variable\n",
        "X = data.drop('Exited', axis=1)\n",
        "y = data['Exited']\n",
        "\n",
        "# Split the data into training and test sets\n",
        "X_train, X_test, y_train, y_test = train_test_split(X, y, test_size=0.3, random_state=42, stratify=y)\n"
      ],
      "metadata": {
        "id": "ANI-m3KSJa07"
      },
      "execution_count": null,
      "outputs": []
    },
    {
      "cell_type": "code",
      "source": [
        "# Define a preprocessing and modeling pipeline\n",
        "log_reg_pipeline = Pipeline(steps=[('preprocessor', preprocessor), ('classifier', LogisticRegression(max_iter=1000))])\n",
        "\n",
        "# Train the model\n",
        "log_reg_pipeline.fit(X_train, y_train)\n",
        "\n",
        "# Predict on the test set\n",
        "y_pred_lr = log_reg_pipeline.predict(X_test)\n",
        "\n",
        "# Evaluation\n",
        "print(\"Logistic Regression\")\n",
        "print(classification_report(y_test, y_pred_lr))\n",
        "print(\"ROC AUC Score:\", roc_auc_score(y_test, log_reg_pipeline.predict_proba(X_test)[:,1]))\n"
      ],
      "metadata": {
        "colab": {
          "base_uri": "https://localhost:8080/"
        },
        "id": "YaMmOleHJd_7",
        "outputId": "c0f23c30-96c9-48b9-e78e-f2c6990ae6f6"
      },
      "execution_count": null,
      "outputs": [
        {
          "output_type": "stream",
          "name": "stdout",
          "text": [
            "Logistic Regression\n",
            "              precision    recall  f1-score   support\n",
            "\n",
            "           0       0.81      0.97      0.89      2389\n",
            "           1       0.54      0.12      0.20       611\n",
            "\n",
            "    accuracy                           0.80      3000\n",
            "   macro avg       0.68      0.55      0.54      3000\n",
            "weighted avg       0.76      0.80      0.75      3000\n",
            "\n",
            "ROC AUC Score: 0.7642214486883759\n"
          ]
        }
      ]
    },
    {
      "cell_type": "code",
      "source": [
        "# Define a preprocessing and modeling pipeline\n",
        "rf_pipeline = Pipeline(steps=[('preprocessor', preprocessor), ('classifier', RandomForestClassifier(random_state=42))])\n",
        "\n",
        "# Train the model\n",
        "rf_pipeline.fit(X_train, y_train)\n",
        "\n",
        "# Predict on the test set\n",
        "y_pred_rf = rf_pipeline.predict(X_test)\n",
        "\n",
        "# Evaluation\n",
        "print(\"Random Forest\")\n",
        "print(classification_report(y_test, y_pred_rf))\n",
        "print(\"ROC AUC Score:\", roc_auc_score(y_test, rf_pipeline.predict_proba(X_test)[:,1]))\n"
      ],
      "metadata": {
        "colab": {
          "base_uri": "https://localhost:8080/"
        },
        "id": "P7dm6LMOJi0G",
        "outputId": "52010023-bb04-4dde-8da4-c27be2e3e4d4"
      },
      "execution_count": null,
      "outputs": [
        {
          "output_type": "stream",
          "name": "stdout",
          "text": [
            "Random Forest\n",
            "              precision    recall  f1-score   support\n",
            "\n",
            "           0       0.87      0.96      0.91      2389\n",
            "           1       0.75      0.44      0.55       611\n",
            "\n",
            "    accuracy                           0.85      3000\n",
            "   macro avg       0.81      0.70      0.73      3000\n",
            "weighted avg       0.84      0.85      0.84      3000\n",
            "\n",
            "ROC AUC Score: 0.8484081089061363\n"
          ]
        }
      ]
    },
    {
      "cell_type": "code",
      "source": [
        "# Define a preprocessing and modeling pipeline\n",
        "gb_pipeline = Pipeline(steps=[('preprocessor', preprocessor), ('classifier', GradientBoostingClassifier(random_state=42))])\n",
        "\n",
        "# Train the model\n",
        "gb_pipeline.fit(X_train, y_train)\n",
        "\n",
        "# Predict on the test set\n",
        "y_pred_gb = gb_pipeline.predict(X_test)\n",
        "\n",
        "# Evaluation\n",
        "print(\"Gradient Boosting\")\n",
        "print(classification_report(y_test, y_pred_gb))\n",
        "print(\"ROC AUC Score:\", roc_auc_score(y_test, gb_pipeline.predict_proba(X_test)[:,1]))\n"
      ],
      "metadata": {
        "colab": {
          "base_uri": "https://localhost:8080/"
        },
        "id": "Ddkd4pAEJnPt",
        "outputId": "3e86c89d-03be-42e4-95b5-269533f0fd6f"
      },
      "execution_count": null,
      "outputs": [
        {
          "output_type": "stream",
          "name": "stdout",
          "text": [
            "Gradient Boosting\n",
            "              precision    recall  f1-score   support\n",
            "\n",
            "           0       0.87      0.97      0.92      2389\n",
            "           1       0.79      0.45      0.57       611\n",
            "\n",
            "    accuracy                           0.86      3000\n",
            "   macro avg       0.83      0.71      0.74      3000\n",
            "weighted avg       0.86      0.86      0.85      3000\n",
            "\n",
            "ROC AUC Score: 0.8672345084090406\n"
          ]
        }
      ]
    }
  ]
}